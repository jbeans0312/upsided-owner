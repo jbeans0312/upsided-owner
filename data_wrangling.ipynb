{
 "cells": [
  {
   "cell_type": "markdown",
   "metadata": {},
   "source": [
    "### Imports"
   ]
  },
  {
   "cell_type": "code",
   "execution_count": 2,
   "metadata": {},
   "outputs": [],
   "source": [
    "import os\n",
    "import pandas as pd\n",
    "import config\n",
    "import re\n",
    "import json\n",
    "from fetch_messages import retrieve_messages\n",
    "from IPython.display import display"
   ]
  },
  {
   "cell_type": "markdown",
   "metadata": {},
   "source": [
    "### Scrape messages\n",
    "- Set the `channel_id` you want to scrape from in your `config.py`\n",
    "- `to_fetch` defaults to -1, which tells the scraper to grab as much as it can"
   ]
  },
  {
   "cell_type": "code",
   "execution_count": 7,
   "metadata": {},
   "outputs": [
    {
     "name": "stdout",
     "output_type": "stream",
     "text": [
      "Messages fetched: 50\n",
      "Messages fetched: 100\n",
      "Messages fetched: 150\n",
      "Messages fetched: 200\n",
      "Messages fetched: 250\n",
      "Messages fetched: 300\n",
      "Messages fetched: 350\n",
      "Messages fetched: 400\n",
      "Messages fetched: 450\n",
      "Messages fetched: 500\n",
      "Messages fetched: 550\n",
      "Messages fetched: 600\n",
      "Messages fetched: 650\n",
      "Messages fetched: 700\n",
      "Messages fetched: 750\n",
      "Messages fetched: 800\n",
      "Messages fetched: 850\n",
      "Messages fetched: 900\n",
      "Messages fetched: 950\n",
      "Messages fetched: 1000\n",
      "Messages fetched: 1050\n",
      "Messages fetched: 1100\n",
      "Messages fetched: 1150\n",
      "Messages fetched: 1200\n",
      "Messages fetched: 1250\n",
      "Messages fetched: 1300\n",
      "Messages fetched: 1350\n",
      "Messages fetched: 1400\n",
      "Messages fetched: 1450\n",
      "Messages fetched: 1500\n",
      "Messages fetched: 1550\n",
      "Messages fetched: 1600\n",
      "Messages fetched: 1650\n",
      "Messages fetched: 1700\n",
      "Messages fetched: 1750\n",
      "Messages fetched: 1800\n",
      "Messages fetched: 1850\n",
      "Messages fetched: 1900\n",
      "Messages fetched: 1950\n",
      "Messages fetched: 2000\n",
      "Messages fetched: 2050\n",
      "Messages fetched: 2100\n",
      "Messages fetched: 2150\n",
      "Messages fetched: 2200\n",
      "Messages fetched: 2250\n",
      "Messages fetched: 2300\n",
      "Messages fetched: 2350\n",
      "Messages fetched: 2400\n",
      "Messages fetched: 2450\n",
      "Messages fetched: 2500\n",
      "Messages fetched: 2550\n",
      "Messages fetched: 2600\n",
      "Messages fetched: 2650\n",
      "Messages fetched: 2700\n",
      "Messages fetched: 2750\n",
      "Messages fetched: 2800\n",
      "Messages fetched: 2850\n",
      "Messages fetched: 2900\n",
      "Messages fetched: 2950\n",
      "Messages fetched: 3000\n",
      "Messages fetched: 3050\n",
      "Messages fetched: 3100\n",
      "Messages fetched: 3150\n",
      "Messages fetched: 3200\n",
      "Messages fetched: 3250\n",
      "Messages fetched: 3300\n",
      "Messages fetched: 3350\n",
      "Messages fetched: 3400\n",
      "Messages fetched: 3450\n",
      "Messages fetched: 3500\n",
      "Messages fetched: 3550\n",
      "Messages fetched: 3600\n",
      "Messages fetched: 3650\n",
      "Messages fetched: 3700\n",
      "Messages fetched: 3750\n",
      "Messages fetched: 3800\n",
      "Messages fetched: 3850\n",
      "Messages fetched: 3900\n",
      "Messages fetched: 3950\n",
      "Messages fetched: 4000\n",
      "Messages fetched: 4050\n",
      "Messages fetched: 4100\n",
      "Messages fetched: 4150\n",
      "Messages fetched: 4200\n",
      "Messages fetched: 4250\n",
      "Messages fetched: 4300\n",
      "Messages fetched: 4350\n",
      "Messages fetched: 4400\n",
      "Messages fetched: 4450\n",
      "Messages fetched: 4500\n",
      "Messages fetched: 4550\n",
      "Messages fetched: 4600\n",
      "Messages fetched: 4650\n",
      "Messages fetched: 4700\n",
      "Messages fetched: 4750\n",
      "Messages fetched: 4800\n",
      "Messages fetched: 4850\n",
      "Messages fetched: 4900\n",
      "Messages fetched: 4950\n",
      "Messages fetched: 5000\n",
      "Messages fetched: 5050\n",
      "Messages fetched: 5100\n",
      "Messages fetched: 5150\n",
      "Messages fetched: 5200\n",
      "Messages fetched: 5250\n",
      "Messages fetched: 5300\n",
      "Messages fetched: 5350\n",
      "Messages fetched: 5400\n",
      "Messages fetched: 5450\n",
      "Messages fetched: 5500\n",
      "Messages fetched: 5550\n",
      "Messages fetched: 5600\n",
      "Messages fetched: 5650\n",
      "Messages fetched: 5700\n",
      "Messages fetched: 5750\n",
      "Messages fetched: 5800\n",
      "Messages fetched: 5850\n",
      "Messages fetched: 5900\n",
      "Messages fetched: 5950\n",
      "Messages fetched: 6000\n",
      "Messages fetched: 6050\n",
      "Messages fetched: 6100\n",
      "Messages fetched: 6150\n",
      "Messages fetched: 6200\n",
      "Messages fetched: 6250\n",
      "Messages fetched: 6300\n",
      "Messages fetched: 6350\n",
      "Messages fetched: 6400\n",
      "Messages fetched: 6450\n",
      "Messages fetched: 6500\n",
      "Messages fetched: 6550\n",
      "Messages fetched: 6600\n",
      "Messages fetched: 6650\n",
      "Messages fetched: 6700\n",
      "Messages fetched: 6750\n",
      "Messages fetched: 6800\n",
      "Messages fetched: 6850\n",
      "Messages fetched: 6900\n",
      "Messages fetched: 6950\n",
      "Messages fetched: 7000\n",
      "Messages fetched: 7050\n",
      "Messages fetched: 7100\n",
      "Messages fetched: 7150\n",
      "Messages fetched: 7200\n",
      "Messages fetched: 7250\n",
      "Messages fetched: 7300\n",
      "Messages fetched: 7350\n",
      "Messages fetched: 7400\n",
      "Messages fetched: 7450\n",
      "Messages fetched: 7500\n",
      "Messages fetched: 7550\n",
      "Messages fetched: 7600\n",
      "Messages fetched: 7650\n",
      "Messages fetched: 7700\n",
      "Messages fetched: 7750\n",
      "Messages fetched: 7800\n",
      "Messages fetched: 7850\n",
      "Messages fetched: 7900\n",
      "Messages fetched: 7950\n",
      "Messages fetched: 8000\n",
      "Messages fetched: 8050\n",
      "Messages fetched: 8100\n",
      "Messages fetched: 8150\n",
      "Messages fetched: 8200\n",
      "Messages fetched: 8250\n",
      "Messages fetched: 8300\n",
      "Messages fetched: 8350\n",
      "Messages fetched: 8400\n",
      "Messages fetched: 8450\n",
      "Messages fetched: 8500\n",
      "Messages fetched: 8550\n",
      "Messages fetched: 8600\n",
      "Messages fetched: 8650\n",
      "Messages fetched: 8700\n",
      "Messages fetched: 8750\n",
      "Messages fetched: 8800\n",
      "Messages fetched: 8850\n",
      "Messages fetched: 8900\n",
      "Messages fetched: 8950\n",
      "Messages fetched: 9000\n",
      "Messages fetched: 9050\n",
      "Messages fetched: 9100\n",
      "Messages fetched: 9150\n",
      "Messages fetched: 9200\n",
      "Messages fetched: 9250\n",
      "Messages fetched: 9300\n",
      "Messages fetched: 9350\n",
      "Messages fetched: 9400\n",
      "Messages fetched: 9450\n",
      "Messages fetched: 9500\n",
      "Messages fetched: 9550\n",
      "Messages fetched: 9600\n",
      "Messages fetched: 9650\n",
      "Messages fetched: 9700\n",
      "Messages fetched: 9750\n",
      "Messages fetched: 9800\n",
      "Messages fetched: 9850\n",
      "Messages fetched: 9900\n",
      "Messages fetched: 9950\n",
      "Messages fetched: 10000\n",
      "Messages fetched: 10050\n",
      "Messages fetched: 10100\n",
      "Messages fetched: 10150\n",
      "Messages fetched: 10200\n",
      "Messages fetched: 10250\n",
      "Messages fetched: 10300\n",
      "Messages fetched: 10350\n",
      "Messages fetched: 10400\n",
      "Messages fetched: 10450\n",
      "Messages fetched: 10500\n",
      "Messages fetched: 10550\n",
      "Messages fetched: 10600\n",
      "Messages fetched: 10650\n",
      "Messages fetched: 10700\n",
      "Messages fetched: 10750\n",
      "Messages fetched: 10800\n",
      "Messages fetched: 10850\n",
      "Messages fetched: 10867\n",
      "Done fetching 10867 messages into files 0 through 218!\n"
     ]
    }
   ],
   "source": [
    "retrieve_messages(channel_id=config.general_channel_id, to_fetch=-1)"
   ]
  },
  {
   "cell_type": "markdown",
   "metadata": {},
   "source": [
    "### Load messages into dataframe\n",
    "- Also writes the messages to a .csv"
   ]
  },
  {
   "cell_type": "code",
   "execution_count": 8,
   "metadata": {},
   "outputs": [],
   "source": [
    "dfs = []\n",
    "for filename in os.listdir('messages'):\n",
    "    data = pd.read_json(f'messages/{filename}')\n",
    "    dfs.append(data)\n",
    "\n",
    "messages_df = pd.concat(dfs, ignore_index=True)"
   ]
  },
  {
   "cell_type": "code",
   "execution_count": null,
   "metadata": {},
   "outputs": [],
   "source": [
    "display(messages_df)\n",
    "messages_df.to_csv(f'messages/messages.csv')"
   ]
  },
  {
   "cell_type": "markdown",
   "metadata": {},
   "source": [
    "Reload dataframe from .csv"
   ]
  },
  {
   "cell_type": "code",
   "execution_count": 14,
   "metadata": {},
   "outputs": [
    {
     "name": "stdout",
     "output_type": "stream",
     "text": [
      "Loaded 10867 messages into messages_df.\n"
     ]
    }
   ],
   "source": [
    "messages_df = pd.read_csv('messages/messages.csv')\n",
    "print(f'Loaded {len(messages_df)} messages into messages_df.')"
   ]
  },
  {
   "cell_type": "markdown",
   "metadata": {},
   "source": [
    "### Remove embedded messages"
   ]
  },
  {
   "cell_type": "code",
   "execution_count": 15,
   "metadata": {},
   "outputs": [
    {
     "name": "stdout",
     "output_type": "stream",
     "text": [
      "Removed 1285 attachment messages.\n",
      "Removed 1261 embedded messages.\n",
      "Removed 104 application messages.\n",
      "8217 remaining messages.\n"
     ]
    }
   ],
   "source": [
    "with_attachments = len(messages_df)\n",
    "messages_df = messages_df[messages_df['attachments']=='[]']\n",
    "print(f'Removed {with_attachments - len(messages_df)} attachment messages.')\n",
    "\n",
    "with_embeds = len(messages_df)\n",
    "messages_df = messages_df[messages_df['embeds']=='[]']\n",
    "print(f'Removed {with_embeds - len(messages_df)} embedded messages.')\n",
    "\n",
    "with_application_msgs = len(messages_df)\n",
    "messages_df = messages_df[messages_df['application_id'].isnull()]\n",
    "print(f'Removed {with_application_msgs - len(messages_df)} application messages.')\n",
    "\n",
    "print(f'{len(messages_df)} remaining messages.')\n",
    "cleaned_df = messages_df.copy()"
   ]
  },
  {
   "cell_type": "markdown",
   "metadata": {},
   "source": [
    "### Profile users\n",
    "- Creates a `{'username': 'id'}` dictionary containing each user that has sent a message"
   ]
  },
  {
   "cell_type": "code",
   "execution_count": 16,
   "metadata": {},
   "outputs": [
    {
     "name": "stdout",
     "output_type": "stream",
     "text": [
      "Removed 139 bot messages.\n",
      "8078 messages remaining.\n"
     ]
    }
   ],
   "source": [
    "with_bot_msg = len(cleaned_df)\n",
    "cleaned_df['author'] = cleaned_df['author'].apply(eval)\n",
    "cleaned_df = cleaned_df[cleaned_df['author'].apply(lambda x: \"bot\" not in x)] # remove bots\n",
    "print(f'Removed {with_bot_msg - len(cleaned_df)} bot messages.')\n",
    "print(f'{len(cleaned_df)} messages remaining.')\n",
    "\n",
    "users_dict = {}\n",
    "extract_users = cleaned_df.copy()\n",
    "while not extract_users.empty:\n",
    "    author = extract_users.iloc[0]['author']\n",
    "    users_dict[author['id']] = author['username']\n",
    "    extract_users = extract_users[extract_users['author'].apply(lambda x: x['id']) != author['id']]"
   ]
  },
  {
   "cell_type": "code",
   "execution_count": 7,
   "metadata": {},
   "outputs": [
    {
     "name": "stdout",
     "output_type": "stream",
     "text": [
      "Generated users_dict with 22 users.\n"
     ]
    }
   ],
   "source": [
    "print(f'Generated users_dict with {len(users_dict)} users.')\n",
    "# display(users_dict)"
   ]
  },
  {
   "cell_type": "markdown",
   "metadata": {},
   "source": [
    "### Replace mention tags with usernames"
   ]
  },
  {
   "cell_type": "code",
   "execution_count": 24,
   "metadata": {},
   "outputs": [
    {
     "name": "stdout",
     "output_type": "stream",
     "text": [
      "Replaced mentions with corresponding usernames in 287 messages.\n"
     ]
    }
   ],
   "source": [
    "with_mentions_df = cleaned_df.copy()\n",
    "with_mentions_df = with_mentions_df[(with_mentions_df['mentions']!='[]') & (with_mentions_df['message_reference'].isna())]\n",
    "\n",
    "def replace_mentions(msg):\n",
    "    def extract_and_replace_id(match):\n",
    "        key = match.group(1)\n",
    "        return users_dict.get(key, f'<@{key}>')\n",
    "    return re.sub(r'<@(\\d+)>', extract_and_replace_id, msg)\n",
    "    \n",
    "with_mentions_df['content'] = with_mentions_df['content'].apply(replace_mentions)\n",
    "print(f'Replaced mentions with corresponding usernames in {len(with_mentions_df)} messages.')"
   ]
  }
 ],
 "metadata": {
  "kernelspec": {
   "display_name": "base",
   "language": "python",
   "name": "python3"
  },
  "language_info": {
   "codemirror_mode": {
    "name": "ipython",
    "version": 3
   },
   "file_extension": ".py",
   "mimetype": "text/x-python",
   "name": "python",
   "nbconvert_exporter": "python",
   "pygments_lexer": "ipython3",
   "version": "3.10.13"
  }
 },
 "nbformat": 4,
 "nbformat_minor": 2
}
