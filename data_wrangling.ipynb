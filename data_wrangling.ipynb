{
 "cells": [
  {
   "cell_type": "markdown",
   "metadata": {},
   "source": [
    "### Imports"
   ]
  },
  {
   "cell_type": "code",
   "execution_count": 75,
   "metadata": {},
   "outputs": [],
   "source": [
    "import os\n",
    "import pandas as pd\n",
    "import config\n",
    "import json\n",
    "from fetch_messages import retrieve_messages\n",
    "from IPython.display import display"
   ]
  },
  {
   "cell_type": "markdown",
   "metadata": {},
   "source": [
    "### Scrape messages\n",
    "- Set the `channel_id` you want to scrape from in your `config.py`\n",
    "- `to_fetch` defaults to -1, which tells the scraper to grab as much as it can"
   ]
  },
  {
   "cell_type": "code",
   "execution_count": null,
   "metadata": {},
   "outputs": [],
   "source": [
    "retrieve_messages(channel_id=config.general_channel_id, to_fetch=-1)"
   ]
  },
  {
   "cell_type": "markdown",
   "metadata": {},
   "source": [
    "### Load messages into dataframe\n",
    "- Also writes the messages to a .csv"
   ]
  },
  {
   "cell_type": "code",
   "execution_count": 53,
   "metadata": {},
   "outputs": [],
   "source": [
    "dfs = []\n",
    "for filename in os.listdir('messages'):\n",
    "    data = pd.read_json(f'messages/{filename}')\n",
    "    dfs.append(data)\n",
    "\n",
    "messages_df = pd.concat(dfs, ignore_index=True)"
   ]
  },
  {
   "cell_type": "code",
   "execution_count": null,
   "metadata": {},
   "outputs": [],
   "source": [
    "display(messages_df)\n",
    "messages_df.to_csv(f'messages/messages.csv')"
   ]
  },
  {
   "cell_type": "markdown",
   "metadata": {},
   "source": [
    "Reload dataframe from .csv"
   ]
  },
  {
   "cell_type": "code",
   "execution_count": 57,
   "metadata": {},
   "outputs": [],
   "source": [
    "messages_df = pd.read_csv('messages/messages.csv')"
   ]
  },
  {
   "cell_type": "markdown",
   "metadata": {},
   "source": [
    "### Remove embedded messages"
   ]
  },
  {
   "cell_type": "code",
   "execution_count": 130,
   "metadata": {},
   "outputs": [],
   "source": [
    "messages_df = messages_df[messages_df['attachments']=='[]']\n",
    "messages_df = messages_df[messages_df['embeds']=='[]']\n",
    "messages_df = messages_df[messages_df['application_id'].isnull()]"
   ]
  },
  {
   "cell_type": "markdown",
   "metadata": {},
   "source": [
    "### Profile users\n",
    "- Creates a `{'username': 'id'}` dictionary containing each user that has sent a message"
   ]
  },
  {
   "cell_type": "code",
   "execution_count": 127,
   "metadata": {},
   "outputs": [],
   "source": [
    "user_temp_df = messages_df.copy()\n",
    "user_temp_df['author'] = user_temp_df['author'].apply(eval)\n",
    "\n",
    "users_dict = {}\n",
    "while not user_temp_df.empty:\n",
    "    author = user_temp_df.iloc[0]['author']\n",
    "    users_dict[author['username']] = author['id']\n",
    "    user_temp_df = user_temp_df[user_temp_df['author'].apply(lambda x: x['id']) != author['id']]"
   ]
  },
  {
   "cell_type": "code",
   "execution_count": null,
   "metadata": {},
   "outputs": [],
   "source": [
    "print(users_dict)"
   ]
  }
 ],
 "metadata": {
  "kernelspec": {
   "display_name": "base",
   "language": "python",
   "name": "python3"
  },
  "language_info": {
   "codemirror_mode": {
    "name": "ipython",
    "version": 3
   },
   "file_extension": ".py",
   "mimetype": "text/x-python",
   "name": "python",
   "nbconvert_exporter": "python",
   "pygments_lexer": "ipython3",
   "version": "3.10.13"
  }
 },
 "nbformat": 4,
 "nbformat_minor": 2
}
